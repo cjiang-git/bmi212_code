{
 "cells": [
  {
   "cell_type": "code",
   "execution_count": null,
   "id": "dd0579b6",
   "metadata": {},
   "outputs": [],
   "source": [
    "import pandas as pd\n",
    "\n",
    "def create_fasta_from_csv(csv_filename, output_fasta_filename=\"output.fasta\"):\n",
    "\n",
    "    df = pd.read_csv(csv_filename)\n",
    "    \n",
    "\n",
    "\n",
    "    with open(output_fasta_filename, 'w') as f_out:\n",
    "        for index, row in df.iterrows():\n",
    "            tf_gene = str(row['tf_gene']).strip()\n",
    "            amino_acid_sequence = str(row['amino_acid_sequence']).strip() if pd.notna(row['amino_acid_sequence']) else \"\"\n",
    "\n",
    "            if not tf_gene:\n",
    "                print(f\"Skipping row {index + 2} (original CSV line number) due to missing tf_gene.\")\n",
    "                continue\n",
    "            if not amino_acid_sequence: \n",
    "                print(f\"Skipping row {index + 2} (tf_gene: {tf_gene}) due to missing or empty amino_acid_sequence.\")\n",
    "                continue\n",
    "            \n",
    "            f_out.write(f\">{tf_gene}\\n\")\n",
    "            f_out.write(f\"{amino_acid_sequence}\\n\")\n"
   ]
  },
  {
   "cell_type": "code",
   "execution_count": 2,
   "id": "7d5da2ed",
   "metadata": {},
   "outputs": [
    {
     "name": "stdout",
     "output_type": "stream",
     "text": [
      "Successfully created FASTA file: af_tf_gene_aa_complete.fasta from af_tf_gene_aa_complete.csv\n"
     ]
    }
   ],
   "source": [
    "create_fasta_from_csv('af_tf_gene_aa_complete.csv', 'af_tf_gene_aa_complete.fasta')"
   ]
  },
  {
   "cell_type": "code",
   "execution_count": 3,
   "id": "d89dd046",
   "metadata": {},
   "outputs": [
    {
     "name": "stdout",
     "output_type": "stream",
     "text": [
      "Successfully created FASTA file: af_tf_gene_aa_shortlist.fasta from af_tf_gene_aa_shortlist.csv\n"
     ]
    }
   ],
   "source": [
    "create_fasta_from_csv('af_tf_gene_aa_shortlist.csv', 'af_tf_gene_aa_shortlist.fasta')"
   ]
  },
  {
   "cell_type": "code",
   "execution_count": null,
   "id": "5ad16d81",
   "metadata": {},
   "outputs": [],
   "source": []
  }
 ],
 "metadata": {
  "kernelspec": {
   "display_name": "cs224w",
   "language": "python",
   "name": "python3"
  },
  "language_info": {
   "codemirror_mode": {
    "name": "ipython",
    "version": 3
   },
   "file_extension": ".py",
   "mimetype": "text/x-python",
   "name": "python",
   "nbconvert_exporter": "python",
   "pygments_lexer": "ipython3",
   "version": "3.10.15"
  }
 },
 "nbformat": 4,
 "nbformat_minor": 5
}
